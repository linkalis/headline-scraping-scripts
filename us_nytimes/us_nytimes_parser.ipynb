{
 "cells": [
  {
   "cell_type": "code",
   "execution_count": 1,
   "metadata": {
    "collapsed": true
   },
   "outputs": [],
   "source": [
    "import os\n",
    "import sys\n",
    "from bs4 import BeautifulSoup\n",
    "from datetime import datetime, timedelta\n",
    "import pandas as pd\n",
    "import re\n",
    "import qgrid\n",
    "import csv"
   ]
  },
  {
   "cell_type": "code",
   "execution_count": 27,
   "metadata": {
    "collapsed": false
   },
   "outputs": [
    {
     "data": {
      "text/plain": [
       "['.DS_Store',\n",
       " '.ipynb_checkpoints',\n",
       " 'us_nytimes_06-28-2016_1245.html',\n",
       " 'us_nytimes_07-11-2016_1200.html',\n",
       " 'us_nytimes_parser.ipynb']"
      ]
     },
     "execution_count": 27,
     "metadata": {},
     "output_type": "execute_result"
    }
   ],
   "source": [
    "news_source_name = 'us_nytimes'\n",
    "\n",
    "indir = '/Users/linkalis/headline-scraping-scripts/' + news_source_name + '/'\n",
    "\n",
    "os.listdir(indir)"
   ]
  },
  {
   "cell_type": "code",
   "execution_count": 38,
   "metadata": {
    "collapsed": false
   },
   "outputs": [
    {
     "name": "stdout",
     "output_type": "stream",
     "text": [
      ".DS_Store\n",
      ".ipynb_checkpoints\n",
      "us_nytimes_06-28-2016_1245.html\n",
      "06-28-2016\n",
      "us_nytimes_07-11-2016_1200.html\n",
      "07-11-2016\n",
      "us_nytimes_parser.ipynb\n"
     ]
    }
   ],
   "source": [
    "headlines = [] # create an empty array to hold the headlines\n",
    "\n",
    "for file in os.listdir(indir):\n",
    "    print(file)\n",
    "    \n",
    "    # if the filename ends in .html, read the file\n",
    "    if file.endswith('.html'):\n",
    "        # get the date from the filename\n",
    "        date = re.search(r'(\\d+-\\d+-\\d+)', file).group(1)\n",
    "        \n",
    "        with open(indir + file, 'r') as file_to_read:\n",
    "            read_file = file_to_read.read()\n",
    "\n",
    "            soup = BeautifulSoup(read_file, 'lxml')\n",
    "            \n",
    "            for headline in soup.findAll('article', 'story'):\n",
    "                h = {} # create an empty dictionary to hold the attributes of the headline\n",
    "                #h['headline'] = headline.find('h2', 'story-heading').find('a').get_text() if headline.find('h2', 'story-heading') else None\n",
    "                h['headline'] = headline.find('h2', 'story-heading').get_text() if headline.find('h2', 'story-heading') else None\n",
    "                h['byline'] = headline.find('p', 'byline').get_text() if headline.find('p', 'byline') else None\n",
    "                h['summary'] = headline.find('p', 'summary').get_text() if headline.find('p', 'summary') else None\n",
    "                h['date'] = date\n",
    "                headlines.append(h)"
   ]
  },
  {
   "cell_type": "code",
   "execution_count": 39,
   "metadata": {
    "collapsed": true
   },
   "outputs": [],
   "source": [
    "headlines_df = pd.DataFrame(headlines)\n",
    "qgrid.show_grid(headlines_df)"
   ]
  },
  {
   "cell_type": "code",
   "execution_count": null,
   "metadata": {
    "collapsed": true
   },
   "outputs": [],
   "source": []
  }
 ],
 "metadata": {
  "kernelspec": {
   "display_name": "Python 3",
   "language": "python",
   "name": "python3"
  },
  "language_info": {
   "codemirror_mode": {
    "name": "ipython",
    "version": 3
   },
   "file_extension": ".py",
   "mimetype": "text/x-python",
   "name": "python",
   "nbconvert_exporter": "python",
   "pygments_lexer": "ipython3",
   "version": "3.5.1"
  }
 },
 "nbformat": 4,
 "nbformat_minor": 0
}
