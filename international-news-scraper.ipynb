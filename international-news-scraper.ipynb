{
 "cells": [
  {
   "cell_type": "code",
   "execution_count": 6,
   "metadata": {
    "collapsed": true
   },
   "outputs": [],
   "source": [
    "import os\n",
    "import sys\n",
    "import time\n",
    "import requests\n",
    "from bs4 import BeautifulSoup\n",
    "from datetime import datetime, timedelta\n",
    "import re\n",
    "from twilio.rest import TwilioRestClient\n",
    "import settings\n",
    "import atexit"
   ]
  },
  {
   "cell_type": "code",
   "execution_count": 10,
   "metadata": {
    "collapsed": false
   },
   "outputs": [],
   "source": [
    "# SOURCES TO SCRAPE: (filename_prefix, url, time_to_scrape, test_css_class)\n",
    "# use test_css_class to check if the expected content is on the page (otherwise the site may have changed or added an overlay or paywall)\n",
    "\n",
    "# US & Canada\n",
    "us1 = ('us_nytimes', 'http://www.nytimes.com', '1200', 'story')\n",
    "us2 = ('us_nytimes_intl' 'http://international.nytimes.com', '1203', 'story')\n",
    "us3 = ('us_cnn', 'http://us.cnn.com', '1206', 'cd__headline')\n",
    "us4 = ('us_cnn_intl', 'http://edition.cnn.com/', '1209', 'cd__headline')\n",
    "us5 = ('us_usatoday', 'http://www.usatoday.com', '1212', 'js-asset-headline')\n",
    "us6 = ('us_bostonglobe', 'https://www.bostonglobe.com', '1215', 'story-title')\n",
    "us7 = ('us_theskimm', 'http://www.theskimm.com/recent', '1218', 'skimm-h1')\n",
    "us8 = ('us_npr', 'http://www.npr.org', '1221', 'story-text')\n",
    "\n",
    "ca1 = ('ca_globeandmail', 'http://www.theglobeandmail.com', '1224', 'articleTitle')\n",
    "ca2 = ('ca_cbc', 'http://www.cbc.ca/news', '1227', 'topstory')\n",
    "ca3 = ('ca_torontostar', 'https://www.thestar.com', '1230', 'story__headline')\n",
    "ca4 = ('ca_lapresse', 'http://www.lapresse.ca', '1233', 'moreNews')\n",
    "\n",
    "us9 = ('us_chicagotribune', 'http://www.chicagotribune.com', '1300', 'trb_outfit_primaryItem_article_title')\n",
    "us10 = ('us_startribune', 'http://www.startribune.com', '1303', 'tease-headline')\n",
    "us11 = ('us_cleveland', 'http://www.cleveland.com', '1306', 'fullheadline')\n",
    "\n",
    "us12 = ('us_latimes', 'http://www.latimes.com', '1500', 'trb_outfit_primaryItem_article_title')\n",
    "us13 = ('us_nationalenquirer', 'http://www.nationalenquirer.com', '1503', 'postInLine')\n",
    "\n",
    "# Germany\n",
    "de1 = ('de_spiegel', 'http://www.spiegel.de', '0600', 'headline')\n",
    "de2 = ('de_faz', 'http://www.faz.net', '0603', 'Headline')\n",
    "de3 = ('de_sueddeutsche', 'http://www.sueddeutsche.de', '0606', 'entry-title')\n",
    "de4 = ('de_bild', 'http://www.bild.de', '0609', 'headline')\n",
    "de5 = ('de_ard', 'www.ard.de', '0612', 'headline')\n",
    "\n",
    "# France\n",
    "fr1 = ('fr_lemonde', 'http://www.lemonde.fr', '0615', 'titre_une')\n",
    "fr2 = ('fr_lefigaro', 'http://www.lefigaro.fr', '0618', 'fig-profil-headline')\n",
    "fr3 = ('leparisien_url', 'http://www.leparisien.fr', '0621', 'article__title')\n",
    "\n",
    "# Great Britain\n",
    "gb1 = ('gb_bbc', 'http://www.bbc.com', '0800', 'media__title')\n",
    "gb2 = ('gb_guardian', 'http://www.theguardian.com/uk', '0803', 'fc-item__header')\n",
    "gb3 = ('gb_guardian_intl', 'http://www.theguardian.com/international', '0806', 'fc-item__header')\n",
    "gb4 = ('gb_dailymail', 'http://www.dailymail.co.uk/home/index.html', '0809', 'article')\n",
    "gb5 = ('gb_sun', 'https://www.thesun.co.uk', '0812', 'teaser__headline')\n",
    "\n",
    "\n",
    "scraping_list = [us1, us2, us3, us4, us5, us6, us7, us8, us9, us10, us11, us12,\n",
    "                 ca1, ca2, ca3, ca4,\n",
    "                 de1, de2, de3, de4, de5,\n",
    "                 fr1, fr2, fr3, \n",
    "                 gb1, gb2, gb3]"
   ]
  },
  {
   "cell_type": "code",
   "execution_count": 8,
   "metadata": {
    "collapsed": true
   },
   "outputs": [],
   "source": [
    "# TWILIO SETTINGS - for SMS error notifications\n",
    "account_sid = settings.TWILIO_ACCOUNT_SID\n",
    "auth_token = settings.TWILIO_AUTH_TOKEN\n",
    "client = TwilioRestClient(account_sid, auth_token)"
   ]
  },
  {
   "cell_type": "code",
   "execution_count": 9,
   "metadata": {
    "collapsed": true
   },
   "outputs": [],
   "source": [
    "# SCRAPE SITE function that's called on a specific site (one at a time) when it's time to scrape a site\n",
    "def scrape_site(sitename, url, test_css_class):\n",
    "    filename = sitename + \"_\" + datetime.utcnow().strftime(\"%m-%d-%Y_%H%M\") + \".html\"\n",
    "\n",
    "    try:\n",
    "        resp = requests.get(url).text\n",
    "        soup = BeautifulSoup(resp, 'lxml')\n",
    "        \n",
    "        with open(filename, 'w') as outfile:\n",
    "            outfile.write(soup.prettify())\n",
    "            print(\"The web page was saved locally to the file: \" + filename)\n",
    "        \n",
    "        if soup.find(class_=test_css_class) == None:\n",
    "            alert = \"WARNING! Couldn't find test_css_class on page: \" + filename\n",
    "            message = client.messages.create(to=settings.ALERT_PHONE_NUMBER, from_=settings.TWILIO_PHONE_NUMBER, body=alert)\n",
    "        \n",
    "        #alert = \"Scraped: \" + filename\n",
    "        #message = client.messages.create(to=settings.ALERT_PHONE_NUMBER, from_=\"+16515041911\", body=alert)\n",
    "    except Exception as e:\n",
    "        alert = \"SCRAPING ERROR: \" + filename + \". ERROR: \" + e\n",
    "        print(alert)      \n",
    "        client.messages.create(to=settings.ALERT_PHONE_NUMBER, from_=settings.TWILIO_PHONE_NUMBER, body=alert)"
   ]
  },
  {
   "cell_type": "code",
   "execution_count": 178,
   "metadata": {
    "collapsed": false
   },
   "outputs": [],
   "source": [
    "# TO SCRAPE OR NOT TO SCRAPE function that's called every minute to iterate through the scraping list and check if it's time to scrape any of the sites\n",
    "def to_scrape_or_not_to_scrape(sites_list):\n",
    "    dt = datetime.utcnow().strftime(\"%H%M\")\n",
    "    print(\"Current time: \" + dt)   \n",
    "    \n",
    "    for site in sites_list:\n",
    "        if site[2] == dt:\n",
    "            print(\"Scraping site: \" + site[0])\n",
    "            scrape_site(site[0], site[1], site[3])"
   ]
  },
  {
   "cell_type": "code",
   "execution_count": 179,
   "metadata": {
    "collapsed": false
   },
   "outputs": [
    {
     "data": {
      "text/plain": [
       "<function __main__.script_exit>"
      ]
     },
     "execution_count": 179,
     "metadata": {},
     "output_type": "execute_result"
    }
   ],
   "source": [
    "# SCRIPT EXIT function that's sends a text message anytime the script stops running so user can check if it accidentally terminated\n",
    "def script_exit():\n",
    "    alert = \"SCRAPE STOPPED!\"\n",
    "    client.messages.create(to=settings.ALERT_PHONE_NUMBER, from_=settings.TWILIO_PHONE_NUMBER, body=alert)\n",
    "    \n",
    "atexit.register(script_exit)"
   ]
  },
  {
   "cell_type": "code",
   "execution_count": 180,
   "metadata": {
    "collapsed": false
   },
   "outputs": [
    {
     "name": "stdout",
     "output_type": "stream",
     "text": [
      "Current time: 0335\n",
      "Current time: 0336\n",
      "Scraping site: us_nytimes\n",
      "The web page was saved locally to the file: us_nytimes_06-28-2016_0336.html\n",
      "Current time: 0337\n",
      "Current time: 0338\n"
     ]
    },
    {
     "ename": "KeyboardInterrupt",
     "evalue": "",
     "output_type": "error",
     "traceback": [
      "\u001b[0;31m---------------------------------------------------------------------------\u001b[0m",
      "\u001b[0;31mKeyboardInterrupt\u001b[0m                         Traceback (most recent call last)",
      "\u001b[0;32m<ipython-input-180-73a58b201366>\u001b[0m in \u001b[0;36m<module>\u001b[0;34m()\u001b[0m\n\u001b[1;32m      1\u001b[0m \u001b[0;32mwhile\u001b[0m \u001b[0;32mTrue\u001b[0m\u001b[0;34m:\u001b[0m\u001b[0;34m\u001b[0m\u001b[0m\n\u001b[1;32m      2\u001b[0m     \u001b[0mto_scrape_or_not_to_scrape\u001b[0m\u001b[0;34m(\u001b[0m\u001b[0mscraping_list\u001b[0m\u001b[0;34m)\u001b[0m\u001b[0;34m\u001b[0m\u001b[0m\n\u001b[0;32m----> 3\u001b[0;31m     \u001b[0mtime\u001b[0m\u001b[0;34m.\u001b[0m\u001b[0msleep\u001b[0m\u001b[0;34m(\u001b[0m\u001b[0;36m60\u001b[0m\u001b[0;34m)\u001b[0m\u001b[0;34m\u001b[0m\u001b[0m\n\u001b[0m",
      "\u001b[0;31mKeyboardInterrupt\u001b[0m: "
     ]
    }
   ],
   "source": [
    "# WHILE LOOP that executes the main to_scrape_or_not_to_scrape function at 60-second intervals\n",
    "while True:\n",
    "    to_scrape_or_not_to_scrape(scraping_list)\n",
    "    time.sleep(60)"
   ]
  },
  {
   "cell_type": "code",
   "execution_count": null,
   "metadata": {
    "collapsed": true
   },
   "outputs": [],
   "source": []
  }
 ],
 "metadata": {
  "kernelspec": {
   "display_name": "Python 3",
   "language": "python",
   "name": "python3"
  },
  "language_info": {
   "codemirror_mode": {
    "name": "ipython",
    "version": 3
   },
   "file_extension": ".py",
   "mimetype": "text/x-python",
   "name": "python",
   "nbconvert_exporter": "python",
   "pygments_lexer": "ipython3",
   "version": "3.5.1"
  }
 },
 "nbformat": 4,
 "nbformat_minor": 0
}
